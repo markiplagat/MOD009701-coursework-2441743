{
  "cells": [
    {
      "cell_type": "markdown",
      "metadata": {
        "id": "view-in-github",
        "colab_type": "text"
      },
      "source": [
        "<a href=\"https://colab.research.google.com/github/markiplagat/MOD009701-coursework-2441743/blob/main/Week1_NumPy_ML_in_Finance_Final_.ipynb\" target=\"_parent\"><img src=\"https://colab.research.google.com/assets/colab-badge.svg\" alt=\"Open In Colab\"/></a>"
      ]
    },
    {
      "cell_type": "markdown",
      "metadata": {
        "id": "ci5kp2ARHnI7"
      },
      "source": [
        "<html> <h1 style=\"font-style:bold; color:blue;\"> Machine Learning in Finance </h1> </html>"
      ]
    },
    {
      "cell_type": "markdown",
      "metadata": {
        "id": "awX8emjBHnI9"
      },
      "source": [
        "<html> <h1 style=\"font-style:italic; color:blue;\"> Week-1 </h1> </html>\n"
      ]
    },
    {
      "cell_type": "code",
      "execution_count": 82,
      "metadata": {
        "id": "9vw0s8SMHnI-"
      },
      "outputs": [],
      "source": [
        "import numpy as np"
      ]
    },
    {
      "cell_type": "markdown",
      "metadata": {
        "id": "wZvs_GhTHnI_"
      },
      "source": [
        "# NumPy\n",
        "\n",
        "The main python library used in numerical data analysis is NumPy (or Numpy). It is a Linear Algebra Library for Python.  It is a very important library for Data Science with Python mainly because Numpy is incredibly fast, as it has bindings to C libraries.\n",
        "\n",
        "It provides a high-performance multidimensional array object, and tools for working with these arrays.\n",
        "\n",
        "This practical gives only an introduction to Numpy."
      ]
    },
    {
      "cell_type": "markdown",
      "metadata": {
        "id": "R5AQCDkrHnJA"
      },
      "source": [
        "## Installation NumPy\n",
        "\n",
        "**In the case of using the Anaconda distribution, the Numpay has already been installed. If you have any problem with Numpay functionality, it is highly recommended to re-install Numpay using the following command:**\n",
        "    \n",
        "    install numpy\n"
      ]
    },
    {
      "cell_type": "markdown",
      "metadata": {
        "id": "BML6Ry44HnJB"
      },
      "source": [
        ":____________________________________________![image.png]\n",
        "\n",
        "1.   [List item](https://)\n",
        "2.   List item\n",
        "\n",
        "![\"my\"](attachment:d7dc4e19-f52e-4a93-b2f1-e4cd231d4be9.png)"
      ]
    },
    {
      "cell_type": "code",
      "execution_count": 82,
      "metadata": {
        "id": "z2UKHxu0HnJB"
      },
      "outputs": [],
      "source": []
    },
    {
      "cell_type": "code",
      "execution_count": 82,
      "metadata": {
        "id": "Zf3DdeT9HnJC"
      },
      "outputs": [],
      "source": []
    },
    {
      "cell_type": "markdown",
      "metadata": {
        "id": "_ZMkU7fHHnJC"
      },
      "source": [
        "One of the most popular features of the Numpy library is the capability of operations with arrays of different sizes (or ranks).\n",
        "\n",
        "Dimensions of arrays:\n",
        "- vectors - One dimensional arrays,\n",
        "- matrices - Two dimensional arrays,\n",
        "- tensor - Three or more arrays."
      ]
    },
    {
      "cell_type": "markdown",
      "metadata": {
        "id": "aSDCzXH5HnJD"
      },
      "source": [
        "49.png![image.png](attachment:image.png)"
      ]
    },
    {
      "cell_type": "markdown",
      "metadata": {
        "id": "E_9IVpdaHnJD"
      },
      "source": [
        "____________________________________________![image.png](attachment:c8b0e131-8ac3-4605-b402-9cca1b5ba9d3.png)"
      ]
    },
    {
      "cell_type": "code",
      "source": [
        "a = np.array([1, 2, 3])"
      ],
      "metadata": {
        "id": "J71dm0WVeol4"
      },
      "execution_count": 83,
      "outputs": []
    },
    {
      "cell_type": "markdown",
      "metadata": {
        "id": "wU5F4xbEHnJE"
      },
      "source": [
        "____________________________________________![image.png](attachment:565f7ffe-ea75-4f62-b130-093f60e7e041.png)"
      ]
    },
    {
      "cell_type": "code",
      "source": [
        "print(type(a))\n",
        "print(a.shape)"
      ],
      "metadata": {
        "colab": {
          "base_uri": "https://localhost:8080/"
        },
        "id": "8VQJ-WDBetcg",
        "outputId": "49b4a6d3-7a6f-4cd1-98a3-c7adf3ec12ce"
      },
      "execution_count": 84,
      "outputs": [
        {
          "output_type": "stream",
          "name": "stdout",
          "text": [
            "<class 'numpy.ndarray'>\n",
            "(3,)\n"
          ]
        }
      ]
    },
    {
      "cell_type": "markdown",
      "metadata": {
        "id": "aePMhB70HnJF"
      },
      "source": [
        "____________________________________________![image.png](attachment:cd442ab7-487e-4b31-ab69-0177198e683e.png)"
      ]
    },
    {
      "cell_type": "code",
      "source": [
        "print(a[0], a[1], a[2])"
      ],
      "metadata": {
        "colab": {
          "base_uri": "https://localhost:8080/"
        },
        "id": "6eJwqksdfFyn",
        "outputId": "9c73d231-25f7-4a7c-c7b4-1514d74e8513"
      },
      "execution_count": 85,
      "outputs": [
        {
          "output_type": "stream",
          "name": "stdout",
          "text": [
            "1 2 3\n"
          ]
        }
      ]
    },
    {
      "cell_type": "code",
      "source": [
        "print(a)"
      ],
      "metadata": {
        "colab": {
          "base_uri": "https://localhost:8080/"
        },
        "id": "Ct0V4kjtfGux",
        "outputId": "ffe5d840-5ae3-49dc-84ea-ad29c7ef9126"
      },
      "execution_count": 86,
      "outputs": [
        {
          "output_type": "stream",
          "name": "stdout",
          "text": [
            "[1 2 3]\n"
          ]
        }
      ]
    },
    {
      "cell_type": "markdown",
      "metadata": {
        "id": "-Nmom-pGHnJG"
      },
      "source": [
        "____________________________________________![image.png](attachment:8acae197-093e-403c-adaa-e2eefa1cca1a.png)"
      ]
    },
    {
      "cell_type": "code",
      "source": [
        "a[0] = 5"
      ],
      "metadata": {
        "id": "9cFy7MqtfdeN"
      },
      "execution_count": 87,
      "outputs": []
    },
    {
      "cell_type": "code",
      "source": [
        "print(a)"
      ],
      "metadata": {
        "colab": {
          "base_uri": "https://localhost:8080/"
        },
        "id": "hg11oCR1feq-",
        "outputId": "3f5c97f8-799f-4be5-b366-63b8aa4dc7fd"
      },
      "execution_count": 88,
      "outputs": [
        {
          "output_type": "stream",
          "name": "stdout",
          "text": [
            "[5 2 3]\n"
          ]
        }
      ]
    },
    {
      "cell_type": "markdown",
      "metadata": {
        "id": "7P2YFqUpHnJH"
      },
      "source": [
        "____________________________________________![image.png](attachment:f676ad92-bb1d-49c6-bff6-e4aca2174453.png)"
      ]
    },
    {
      "cell_type": "code",
      "source": [
        "b = np.array([[1,2,3], [4,5,6]])\n",
        "b"
      ],
      "metadata": {
        "colab": {
          "base_uri": "https://localhost:8080/"
        },
        "id": "xiRWJ-DQfqar",
        "outputId": "a4ea4511-d662-4230-f713-40fc5909f893"
      },
      "execution_count": 89,
      "outputs": [
        {
          "output_type": "execute_result",
          "data": {
            "text/plain": [
              "array([[1, 2, 3],\n",
              "       [4, 5, 6]])"
            ]
          },
          "metadata": {},
          "execution_count": 89
        }
      ]
    },
    {
      "cell_type": "markdown",
      "metadata": {
        "id": "brtzEuT3HnJI"
      },
      "source": [
        "____________________________________________![image.png](attachment:193cd9e0-7861-4552-9ac9-237f88534427.png)"
      ]
    },
    {
      "cell_type": "code",
      "source": [
        "print(b[1,0])"
      ],
      "metadata": {
        "colab": {
          "base_uri": "https://localhost:8080/"
        },
        "id": "eT21zSnUgCVN",
        "outputId": "3ea97e8d-0b9f-4a65-a85f-3524633f3903"
      },
      "execution_count": 90,
      "outputs": [
        {
          "output_type": "stream",
          "name": "stdout",
          "text": [
            "4\n"
          ]
        }
      ]
    },
    {
      "cell_type": "code",
      "execution_count": 90,
      "metadata": {
        "id": "7qFor7vzHnJI"
      },
      "outputs": [],
      "source": []
    },
    {
      "cell_type": "markdown",
      "metadata": {
        "id": "Ya79NhehHnJJ"
      },
      "source": [
        "### arange\n",
        "\n",
        "The arange() method is used to return an evenly spaced values within a given interval.\n",
        "The method has the following parameters:\n",
        "- **start** parameter (inclusive in the sequence)  \n",
        "- **end** parameter (exclusive in the sequence)\n",
        "- **step size** (optional parameter used to find the next element in the sequence)\n"
      ]
    },
    {
      "cell_type": "markdown",
      "metadata": {
        "id": "-7NL9t5lHnJJ"
      },
      "source": [
        "____________________________________________![image.png](attachment:be72cd71-324f-4b2f-a9eb-9f58864ee035.png)"
      ]
    },
    {
      "cell_type": "code",
      "execution_count": 91,
      "metadata": {
        "colab": {
          "base_uri": "https://localhost:8080/"
        },
        "id": "MM8iLAYfHnJH",
        "outputId": "7886e4ed-9772-4124-ed1f-74cde30f7ac7"
      },
      "outputs": [
        {
          "output_type": "execute_result",
          "data": {
            "text/plain": [
              "array([10, 11, 12, 13, 14, 15, 16, 17, 18, 19])"
            ]
          },
          "metadata": {},
          "execution_count": 91
        }
      ],
      "source": [
        "np.arange(10,20)"
      ]
    },
    {
      "cell_type": "code",
      "execution_count": 91,
      "metadata": {
        "id": "eTyie_YBHnJK"
      },
      "outputs": [],
      "source": []
    },
    {
      "cell_type": "markdown",
      "metadata": {
        "id": "P6TiLnPCHnJK"
      },
      "source": [
        "____________________________________________![image.png](attachment:793515fa-88f9-471d-bb3d-6b28e65a20c1.png)"
      ]
    },
    {
      "cell_type": "code",
      "execution_count": 92,
      "metadata": {
        "colab": {
          "base_uri": "https://localhost:8080/"
        },
        "id": "ltAR2YmaHnJH",
        "outputId": "7ebe9889-3a35-4e8d-dee1-93ed8c7e8410"
      },
      "outputs": [
        {
          "output_type": "execute_result",
          "data": {
            "text/plain": [
              "array([30, 27, 24, 21, 18, 15, 12,  9,  6,  3])"
            ]
          },
          "metadata": {},
          "execution_count": 92
        }
      ],
      "source": [
        "np.arange(30, 1, -3)"
      ]
    },
    {
      "cell_type": "code",
      "execution_count": 92,
      "metadata": {
        "id": "VFktmcHrHnJL"
      },
      "outputs": [],
      "source": []
    },
    {
      "cell_type": "markdown",
      "metadata": {
        "id": "wWNTTm6dHnJL"
      },
      "source": [
        "<html> <h3 style=\"font-style:italic; color:blue;\"> Let us compare the performance of Numpay and Python arrays. </h3> </html>"
      ]
    },
    {
      "cell_type": "code",
      "execution_count": 93,
      "metadata": {
        "id": "jysm0FtMHnJL"
      },
      "outputs": [],
      "source": [
        "# timeit - executes the code several times and gives statistics."
      ]
    },
    {
      "cell_type": "markdown",
      "metadata": {
        "id": "1xa_mL24HnJm"
      },
      "source": [
        "#### Now just press 'CTRL' and 'ENTER' keys on the next cells."
      ]
    },
    {
      "cell_type": "code",
      "execution_count": 94,
      "metadata": {
        "colab": {
          "base_uri": "https://localhost:8080/"
        },
        "id": "Q8Po0K6nHnJn",
        "outputId": "f5c42cef-56bf-41f1-db70-02f83821755f"
      },
      "outputs": [
        {
          "output_type": "stream",
          "name": "stdout",
          "text": [
            "1.41 µs ± 305 ns per loop (mean ± std. dev. of 7 runs, 1000000 loops each)\n"
          ]
        }
      ],
      "source": [
        "%timeit np.arange(0, 1000)"
      ]
    },
    {
      "cell_type": "code",
      "execution_count": 95,
      "metadata": {
        "colab": {
          "base_uri": "https://localhost:8080/"
        },
        "id": "y4efRN65HnJn",
        "outputId": "a439cb66-8cb1-41bf-9205-5a747e77726f"
      },
      "outputs": [
        {
          "output_type": "stream",
          "name": "stdout",
          "text": [
            "99.9 ns ± 28.2 ns per loop (mean ± std. dev. of 7 runs, 10000000 loops each)\n"
          ]
        }
      ],
      "source": [
        "%timeit range(0, 1000)"
      ]
    },
    {
      "cell_type": "code",
      "execution_count": 95,
      "metadata": {
        "id": "Ogie7T5dHnJo"
      },
      "outputs": [],
      "source": []
    },
    {
      "cell_type": "markdown",
      "metadata": {
        "id": "WPCpuUKCHnJo"
      },
      "source": [
        "<html> <h3 style=\"color:blue;\"> Numpy also provides many functions to create arrays </h3> </html>"
      ]
    },
    {
      "cell_type": "markdown",
      "metadata": {
        "id": "5oQJfx0IHnJp"
      },
      "source": [
        "____________________________________________![image.png](attachment:5644d1a1-af6f-499a-8b57-56e2b163cf07.png)"
      ]
    },
    {
      "cell_type": "code",
      "execution_count": 96,
      "metadata": {
        "colab": {
          "base_uri": "https://localhost:8080/"
        },
        "id": "rC3dadpBHnJp",
        "outputId": "9487141b-d529-4758-9fe9-08bd21aae3bb"
      },
      "outputs": [
        {
          "output_type": "execute_result",
          "data": {
            "text/plain": [
              "array([[0., 0.],\n",
              "       [0., 0.]])"
            ]
          },
          "metadata": {},
          "execution_count": 96
        }
      ],
      "source": [
        "a = np.zeros((2, 2))\n",
        "a"
      ]
    },
    {
      "cell_type": "code",
      "execution_count": 97,
      "metadata": {
        "colab": {
          "base_uri": "https://localhost:8080/"
        },
        "id": "Z3aVVAzSHnJp",
        "outputId": "44b1cf32-f6c1-4e41-8eb3-31abd0118d3b"
      },
      "outputs": [
        {
          "output_type": "execute_result",
          "data": {
            "text/plain": [
              "array([[1., 1., 1., 1.],\n",
              "       [1., 1., 1., 1.],\n",
              "       [1., 1., 1., 1.]])"
            ]
          },
          "metadata": {},
          "execution_count": 97
        }
      ],
      "source": [
        "b = np.ones((3, 4))\n",
        "b"
      ]
    },
    {
      "cell_type": "markdown",
      "metadata": {
        "id": "TM7UB84zHnJq"
      },
      "source": [
        "____________________________________________![image.png](attachment:2b89ec2a-047e-4e58-9ca8-fcb0f4cb6b5b.png)"
      ]
    },
    {
      "cell_type": "code",
      "execution_count": 98,
      "metadata": {
        "colab": {
          "base_uri": "https://localhost:8080/"
        },
        "id": "Snt59PEWHnJq",
        "outputId": "db383727-a451-461a-eb37-052ca133e3f7"
      },
      "outputs": [
        {
          "output_type": "execute_result",
          "data": {
            "text/plain": [
              "array([[1., 0., 0., 0.],\n",
              "       [0., 1., 0., 0.],\n",
              "       [0., 0., 1., 0.],\n",
              "       [0., 0., 0., 1.]])"
            ]
          },
          "metadata": {},
          "execution_count": 98
        }
      ],
      "source": [
        "np.eye(4)"
      ]
    },
    {
      "cell_type": "code",
      "execution_count": 99,
      "metadata": {
        "colab": {
          "base_uri": "https://localhost:8080/"
        },
        "id": "7NNkNTCZHnJr",
        "outputId": "ef293f6b-92d3-4553-ee3c-12855f099697"
      },
      "outputs": [
        {
          "output_type": "execute_result",
          "data": {
            "text/plain": [
              "array([[0.60859121, 0.49605797],\n",
              "       [0.47787899, 0.72703186]])"
            ]
          },
          "metadata": {},
          "execution_count": 99
        }
      ],
      "source": [
        "e = np.random.random((2, 2))\n",
        "e"
      ]
    },
    {
      "cell_type": "markdown",
      "metadata": {
        "id": "bDrEE_0jHnJr"
      },
      "source": [
        "____________________________________________![image.png](attachment:267a89d5-8030-4262-b0b8-6c744458ad89.png)"
      ]
    },
    {
      "cell_type": "code",
      "execution_count": 100,
      "metadata": {
        "colab": {
          "base_uri": "https://localhost:8080/"
        },
        "id": "F018QW3WHnJr",
        "outputId": "00dc48bc-a47f-400b-aa7a-97b5ab7b4bd9"
      },
      "outputs": [
        {
          "output_type": "execute_result",
          "data": {
            "text/plain": [
              "array([ 0.,  2.,  4.,  6.,  8., 10., 12., 14., 16., 18., 20.])"
            ]
          },
          "metadata": {},
          "execution_count": 100
        }
      ],
      "source": [
        "np.linspace(0, 20, 11)"
      ]
    },
    {
      "cell_type": "code",
      "execution_count": 100,
      "metadata": {
        "id": "3UmM98TIHnJs"
      },
      "outputs": [],
      "source": []
    },
    {
      "cell_type": "markdown",
      "metadata": {
        "id": "w7TvDe1qHnJs"
      },
      "source": [
        "____________________________________________![image.png](attachment:339d2c8c-51d3-4874-9dd6-ccc57337eeb1.png)"
      ]
    },
    {
      "cell_type": "code",
      "execution_count": 101,
      "metadata": {
        "colab": {
          "base_uri": "https://localhost:8080/"
        },
        "id": "6gGakyPkHnJt",
        "outputId": "cd870d1f-fa8c-4183-9af0-1eea39a54032"
      },
      "outputs": [
        {
          "output_type": "execute_result",
          "data": {
            "text/plain": [
              "array([ 0.        ,  0.68965517,  1.37931034,  2.06896552,  2.75862069,\n",
              "        3.44827586,  4.13793103,  4.82758621,  5.51724138,  6.20689655,\n",
              "        6.89655172,  7.5862069 ,  8.27586207,  8.96551724,  9.65517241,\n",
              "       10.34482759, 11.03448276, 11.72413793, 12.4137931 , 13.10344828,\n",
              "       13.79310345, 14.48275862, 15.17241379, 15.86206897, 16.55172414,\n",
              "       17.24137931, 17.93103448, 18.62068966, 19.31034483, 20.        ])"
            ]
          },
          "metadata": {},
          "execution_count": 101
        }
      ],
      "source": [
        "np.linspace(0, 20, 30)"
      ]
    },
    {
      "cell_type": "code",
      "execution_count": 101,
      "metadata": {
        "id": "uF9cSdm_HnJt"
      },
      "outputs": [],
      "source": []
    },
    {
      "cell_type": "markdown",
      "metadata": {
        "id": "gpWUbjH9HnJt"
      },
      "source": [
        "____________________________________________![image.png](attachment:155cb7d7-48d9-4b79-a551-503d42cca2b9.png)"
      ]
    },
    {
      "cell_type": "code",
      "execution_count": 101,
      "metadata": {
        "id": "wt3VYUIEHnJu"
      },
      "outputs": [],
      "source": []
    },
    {
      "cell_type": "code",
      "execution_count": 101,
      "metadata": {
        "id": "bE1GbCfwHnJu"
      },
      "outputs": [],
      "source": []
    },
    {
      "cell_type": "markdown",
      "metadata": {
        "id": "B1Bh-n5dHnJu"
      },
      "source": [
        "____________________________________________![image.png](attachment:46117baf-57b3-493c-b73d-d3255b181220.png)"
      ]
    },
    {
      "cell_type": "code",
      "execution_count": 101,
      "metadata": {
        "id": "ss2OOtH5HnJv"
      },
      "outputs": [],
      "source": []
    },
    {
      "cell_type": "code",
      "execution_count": 101,
      "metadata": {
        "id": "_uVeG_W3HnJv"
      },
      "outputs": [],
      "source": []
    },
    {
      "cell_type": "code",
      "execution_count": 101,
      "metadata": {
        "id": "EK5NvpC7HnJv"
      },
      "outputs": [],
      "source": []
    },
    {
      "cell_type": "markdown",
      "metadata": {
        "id": "Koiyp9I_HnJv"
      },
      "source": [
        "<html> <h3 style=\"color:blue;\"> Array Indexing </h3> </html>"
      ]
    },
    {
      "cell_type": "markdown",
      "metadata": {
        "id": "UHuWfNqTHnJw"
      },
      "source": [
        "**Slicing:**\n",
        "    Similar to Python lists, numpy arrays can be sliced. Since arrays may be multidimensional, you must specify a slice for each dimension of the array:"
      ]
    },
    {
      "cell_type": "markdown",
      "metadata": {
        "id": "a8LOVV8pHnJw"
      },
      "source": [
        "..................................................![image.png](attachment:11cabfa7-9787-4a3a-94d5-f27b5089bbea.png)"
      ]
    },
    {
      "cell_type": "code",
      "execution_count": 102,
      "metadata": {
        "colab": {
          "base_uri": "https://localhost:8080/"
        },
        "id": "4VzazFwuHnJw",
        "outputId": "f3882ecb-a29a-494b-b53a-2fb66b3af15e"
      },
      "outputs": [
        {
          "output_type": "execute_result",
          "data": {
            "text/plain": [
              "array([[ 1,  2,  3,  4],\n",
              "       [ 5,  6,  7,  8],\n",
              "       [ 9, 10, 11, 12]])"
            ]
          },
          "metadata": {},
          "execution_count": 102
        }
      ],
      "source": [
        "a = np.array([[1,2,3,4], [5,6,7,8], [9,10,11,12]])\n",
        "a"
      ]
    },
    {
      "cell_type": "code",
      "execution_count": 102,
      "metadata": {
        "id": "3ZJZ4UkXHnJx"
      },
      "outputs": [],
      "source": []
    },
    {
      "cell_type": "markdown",
      "metadata": {
        "id": "x3qga5rfHnJx"
      },
      "source": [
        "____________________________________________![image.png](attachment:b4086256-1bbb-4e1c-820c-415d37eb11b2.png)"
      ]
    },
    {
      "cell_type": "code",
      "execution_count": 103,
      "metadata": {
        "id": "-aBFuyyDHnJx"
      },
      "outputs": [],
      "source": [
        "b = a[:2, 1:3]"
      ]
    },
    {
      "cell_type": "code",
      "execution_count": 104,
      "metadata": {
        "colab": {
          "base_uri": "https://localhost:8080/"
        },
        "id": "8hFOBZ1vHnJy",
        "outputId": "cc78673a-fbe8-43f5-a985-2dfb6a15d717"
      },
      "outputs": [
        {
          "output_type": "execute_result",
          "data": {
            "text/plain": [
              "array([[2, 3],\n",
              "       [6, 7]])"
            ]
          },
          "metadata": {},
          "execution_count": 104
        }
      ],
      "source": [
        "b"
      ]
    },
    {
      "cell_type": "markdown",
      "metadata": {
        "id": "aeYIj-y6HnJy"
      },
      "source": [
        "____________________________________________![image.png](attachment:f3b12e40-eda9-467d-9711-d9b57f20f6ea.png)"
      ]
    },
    {
      "cell_type": "code",
      "execution_count": 105,
      "metadata": {
        "colab": {
          "base_uri": "https://localhost:8080/"
        },
        "id": "L2USD-P1HnJz",
        "outputId": "41d2dd71-27a7-4842-b1c7-e993c6795f35"
      },
      "outputs": [
        {
          "output_type": "stream",
          "name": "stdout",
          "text": [
            "2\n"
          ]
        }
      ],
      "source": [
        "print(a[0, 1])"
      ]
    },
    {
      "cell_type": "code",
      "execution_count": 105,
      "metadata": {
        "id": "OXF-NzX5HnJz"
      },
      "outputs": [],
      "source": []
    },
    {
      "cell_type": "markdown",
      "metadata": {
        "id": "o0t0d_6iHnJz"
      },
      "source": [
        "____________________________________________![image.png](attachment:3bf651f2-ee5c-4cf3-a41c-8bbfd13bd70f.png)"
      ]
    },
    {
      "cell_type": "code",
      "execution_count": 106,
      "metadata": {
        "id": "Pz-EfDctHnJ0"
      },
      "outputs": [],
      "source": [
        "b[0, 0] = 88"
      ]
    },
    {
      "cell_type": "code",
      "execution_count": 107,
      "metadata": {
        "colab": {
          "base_uri": "https://localhost:8080/"
        },
        "id": "RXw585ppHnJ0",
        "outputId": "7a8c683e-135d-4835-8862-55b21592cec8"
      },
      "outputs": [
        {
          "output_type": "stream",
          "name": "stdout",
          "text": [
            "[[ 1 88  3  4]\n",
            " [ 5  6  7  8]\n",
            " [ 9 10 11 12]]\n"
          ]
        }
      ],
      "source": [
        "print(a)"
      ]
    },
    {
      "cell_type": "code",
      "execution_count": 107,
      "metadata": {
        "id": "uXf9sUAyHnJ0"
      },
      "outputs": [],
      "source": []
    },
    {
      "cell_type": "markdown",
      "metadata": {
        "id": "to_e3KqzHnJ0"
      },
      "source": [
        "<html> <h3 style=\"color:blue;\"> Datatypes </h3> </html>"
      ]
    },
    {
      "cell_type": "markdown",
      "metadata": {
        "id": "lgW33ujcHnJ1"
      },
      "source": [
        "Every NumPy array is a grid of elements of the **same type**. Numpy provides a large set of numeric datatypes that you can use to construct arrays. Numpy tries to guess a datatype when you create an array, but you can explicitly specify the type using an optional argument."
      ]
    },
    {
      "cell_type": "markdown",
      "metadata": {
        "id": "nxTByiZLHnJ1"
      },
      "source": [
        "____________________________________________![image.png](attachment:acf9492f-76d6-451f-90d6-f8af21190883.png)"
      ]
    },
    {
      "cell_type": "code",
      "execution_count": 108,
      "metadata": {
        "id": "iiWi1LreHnJ1"
      },
      "outputs": [],
      "source": [
        "x = np.array([1, 2])"
      ]
    },
    {
      "cell_type": "code",
      "execution_count": 109,
      "metadata": {
        "colab": {
          "base_uri": "https://localhost:8080/"
        },
        "id": "9QmsuUE_HnJ2",
        "outputId": "e49f6558-5f0f-4929-b642-af8f41241771"
      },
      "outputs": [
        {
          "output_type": "stream",
          "name": "stdout",
          "text": [
            "int64\n"
          ]
        }
      ],
      "source": [
        "print(x.dtype)"
      ]
    },
    {
      "cell_type": "markdown",
      "metadata": {
        "id": "TCba85uBHnJ2"
      },
      "source": [
        "____________________________________________![image.png](attachment:abd5f58f-2ced-436f-bf31-f5455975721d.png)"
      ]
    },
    {
      "cell_type": "code",
      "execution_count": 110,
      "metadata": {
        "id": "sxq84f6jHnJ2"
      },
      "outputs": [],
      "source": [
        "x = np.array([1.0, 2.0])"
      ]
    },
    {
      "cell_type": "code",
      "execution_count": 111,
      "metadata": {
        "colab": {
          "base_uri": "https://localhost:8080/"
        },
        "id": "qKeiq4vRHnJ3",
        "outputId": "f31d33dd-6ffe-44ea-83e3-08b630268445"
      },
      "outputs": [
        {
          "output_type": "stream",
          "name": "stdout",
          "text": [
            "float64\n"
          ]
        }
      ],
      "source": [
        "print(x.dtype)"
      ]
    },
    {
      "cell_type": "markdown",
      "metadata": {
        "id": "G_rf-rIKHnJ3"
      },
      "source": [
        "____________________________________________![image.png](attachment:cc855679-b5ab-4be8-859f-cbecf8a0fbba.png)"
      ]
    },
    {
      "cell_type": "code",
      "execution_count": 112,
      "metadata": {
        "id": "QZBda8-eHnJ3"
      },
      "outputs": [],
      "source": [
        "x = np.array([1,2], dtype=np.int64)"
      ]
    },
    {
      "cell_type": "code",
      "execution_count": 113,
      "metadata": {
        "colab": {
          "base_uri": "https://localhost:8080/"
        },
        "id": "Zk9DRUYKHnJ3",
        "outputId": "d3c0e631-cd6c-4012-98bd-bf9db7aae92d"
      },
      "outputs": [
        {
          "output_type": "stream",
          "name": "stdout",
          "text": [
            "int64\n"
          ]
        }
      ],
      "source": [
        "print(x.dtype)"
      ]
    },
    {
      "cell_type": "code",
      "execution_count": 113,
      "metadata": {
        "id": "2LW8d6JcHnJ4"
      },
      "outputs": [],
      "source": []
    },
    {
      "cell_type": "markdown",
      "metadata": {
        "id": "t85bfx4nHnJ4"
      },
      "source": [
        "<html> <h3 style=\"color:blue;\"> Array Math </h3> </html>"
      ]
    },
    {
      "cell_type": "code",
      "execution_count": 114,
      "metadata": {
        "id": "Hxu4QbFRHnJ4"
      },
      "outputs": [],
      "source": [
        "# Basic mathematical functions operate elementwise on arrays"
      ]
    },
    {
      "cell_type": "markdown",
      "metadata": {
        "id": "IIomLTd0HnJ5"
      },
      "source": [
        ".....................................................![image.png](attachment:62b9a0d9-3d99-4b14-a8ad-3711111afd5f.png)"
      ]
    },
    {
      "cell_type": "markdown",
      "metadata": {
        "id": "vs8c6hyyHnJ5"
      },
      "source": [
        "#### Now just press 'CTRL' and 'ENTER' keys on the next cell."
      ]
    },
    {
      "cell_type": "code",
      "execution_count": 115,
      "metadata": {
        "colab": {
          "base_uri": "https://localhost:8080/"
        },
        "id": "ehbbwkj-HnJ6",
        "outputId": "89ab4ac2-6c50-49b5-e97c-b98ccfffe55e"
      },
      "outputs": [
        {
          "output_type": "stream",
          "name": "stdout",
          "text": [
            "[[1. 2.]\n",
            " [3. 4.]] \n",
            "\n",
            "[[5. 6.]\n",
            " [7. 8.]]\n"
          ]
        }
      ],
      "source": [
        "x = np.array([[1,2],[3,4]], dtype=np.float64)\n",
        "y = np.array([[5,6],[7,8]], dtype=np.float64)\n",
        "print(x, '\\n')       # '\\n' - Line break symbol\n",
        "print(y)"
      ]
    },
    {
      "cell_type": "code",
      "execution_count": 115,
      "metadata": {
        "id": "FYY0MxZXHnJ6"
      },
      "outputs": [],
      "source": []
    },
    {
      "cell_type": "markdown",
      "metadata": {
        "id": "CRnDrYBrHnJ6"
      },
      "source": [
        "____________________________________________![image.png](attachment:c0c48780-516e-48fc-93be-796adc25d912.png)"
      ]
    },
    {
      "cell_type": "code",
      "execution_count": 116,
      "metadata": {
        "colab": {
          "base_uri": "https://localhost:8080/"
        },
        "id": "qeOtGhUqHnJ7",
        "outputId": "2f93af4a-da90-446c-8474-dbe6b65c707a"
      },
      "outputs": [
        {
          "output_type": "stream",
          "name": "stdout",
          "text": [
            "[[ 6.  8.]\n",
            " [10. 12.]]\n"
          ]
        }
      ],
      "source": [
        "print(x +y )"
      ]
    },
    {
      "cell_type": "code",
      "execution_count": 117,
      "metadata": {
        "colab": {
          "base_uri": "https://localhost:8080/"
        },
        "id": "Vz58R1hUHnJ7",
        "outputId": "f5485522-d75b-4226-d724-0280653d9ea3"
      },
      "outputs": [
        {
          "output_type": "stream",
          "name": "stdout",
          "text": [
            "\n",
            "\n",
            "[[ 6.  8.]\n",
            " [10. 12.]]\n"
          ]
        }
      ],
      "source": [
        "print('\\n')\n",
        "print(np.add(x,y))"
      ]
    },
    {
      "cell_type": "markdown",
      "metadata": {
        "id": "foqHBounHnJ7"
      },
      "source": [
        "____________________________________________![image.png](attachment:07714d60-442c-4abd-b584-a8d7af18d9bb.png)"
      ]
    },
    {
      "cell_type": "code",
      "execution_count": 118,
      "metadata": {
        "colab": {
          "base_uri": "https://localhost:8080/"
        },
        "id": "KnuYEMXsHnJ8",
        "outputId": "020acb33-5427-414a-f2b1-34aa8ee7f4a6"
      },
      "outputs": [
        {
          "output_type": "stream",
          "name": "stdout",
          "text": [
            "[[ 5. 12.]\n",
            " [21. 32.]] \n",
            "\n"
          ]
        }
      ],
      "source": [
        "print(x * y, '\\n')"
      ]
    },
    {
      "cell_type": "code",
      "execution_count": 119,
      "metadata": {
        "colab": {
          "base_uri": "https://localhost:8080/"
        },
        "id": "y5L4LaJnHnJ8",
        "outputId": "7276ca9b-16e0-4973-bed9-730f8c0ca000"
      },
      "outputs": [
        {
          "output_type": "stream",
          "name": "stdout",
          "text": [
            "[[ 5. 12.]\n",
            " [21. 32.]]\n"
          ]
        }
      ],
      "source": [
        "print(np.multiply(x, y))"
      ]
    },
    {
      "cell_type": "markdown",
      "metadata": {
        "id": "6NVaFYbBHnJ8"
      },
      "source": [
        "____________________________________________![image.png](attachment:b6a795f3-e338-490f-a256-39a511082445.png)"
      ]
    },
    {
      "cell_type": "code",
      "execution_count": 120,
      "metadata": {
        "colab": {
          "base_uri": "https://localhost:8080/"
        },
        "id": "dAJQn3PoHnJ8",
        "outputId": "a5d042f1-c141-48f8-97d1-9d09f11b6760"
      },
      "outputs": [
        {
          "output_type": "stream",
          "name": "stdout",
          "text": [
            "[[0.2        0.33333333]\n",
            " [0.42857143 0.5       ]]\n",
            "\n",
            "\n",
            "[[0.2        0.33333333]\n",
            " [0.42857143 0.5       ]]\n"
          ]
        }
      ],
      "source": [
        "print(x / y)\n",
        "print('\\n')\n",
        "print(np.divide(x, y))"
      ]
    },
    {
      "cell_type": "code",
      "execution_count": 120,
      "metadata": {
        "id": "JNQM4yufHnJ9"
      },
      "outputs": [],
      "source": []
    },
    {
      "cell_type": "markdown",
      "metadata": {
        "id": "csTyW9dyHnJ9"
      },
      "source": [
        "____________________________________________![image.png](attachment:3ad4361b-8759-4cf4-acda-29ef1b7d6ffc.png)"
      ]
    },
    {
      "cell_type": "code",
      "execution_count": 121,
      "metadata": {
        "colab": {
          "base_uri": "https://localhost:8080/"
        },
        "id": "onNchXGcHnJ9",
        "outputId": "d1f51c59-48c8-47a0-b46f-9a04f6dd5ab3"
      },
      "outputs": [
        {
          "output_type": "stream",
          "name": "stdout",
          "text": [
            "[[1.         1.41421356]\n",
            " [1.73205081 2.        ]]\n"
          ]
        }
      ],
      "source": [
        "print(np.sqrt(x))"
      ]
    },
    {
      "cell_type": "code",
      "execution_count": 121,
      "metadata": {
        "id": "HC4lsQDWHnJ-"
      },
      "outputs": [],
      "source": []
    },
    {
      "cell_type": "markdown",
      "metadata": {
        "id": "sNWB_skPHnJ-"
      },
      "source": [
        "____________________________________________![image.png](attachment:a6875e9c-4f66-42f3-a098-5d810431a65c.png)"
      ]
    },
    {
      "cell_type": "code",
      "execution_count": 122,
      "metadata": {
        "colab": {
          "base_uri": "https://localhost:8080/"
        },
        "id": "gkqcIKN9HnJ-",
        "outputId": "5c15ae45-7d74-4384-9167-76357f2c4879"
      },
      "outputs": [
        {
          "output_type": "execute_result",
          "data": {
            "text/plain": [
              "array([[ 1.,  8.],\n",
              "       [27., 64.]])"
            ]
          },
          "metadata": {},
          "execution_count": 122
        }
      ],
      "source": [
        "x**3"
      ]
    },
    {
      "cell_type": "code",
      "execution_count": 122,
      "metadata": {
        "id": "2GQY_09EHnJ_"
      },
      "outputs": [],
      "source": []
    },
    {
      "cell_type": "markdown",
      "metadata": {
        "id": "cGtuyinpHnJ_"
      },
      "source": [
        "____________________________________________![image.png](attachment:85fe41cf-7053-41c8-af99-29afb236745b.png)"
      ]
    },
    {
      "cell_type": "code",
      "execution_count": 123,
      "metadata": {
        "colab": {
          "base_uri": "https://localhost:8080/"
        },
        "id": "VN_e1EqcHnJ_",
        "outputId": "7407283f-659f-4cbc-8b02-a5a4e97762d8"
      },
      "outputs": [
        {
          "output_type": "execute_result",
          "data": {
            "text/plain": [
              "array([[1.        , 0.5       ],\n",
              "       [0.33333333, 0.25      ]])"
            ]
          },
          "metadata": {},
          "execution_count": 123
        }
      ],
      "source": [
        "1/x"
      ]
    },
    {
      "cell_type": "markdown",
      "metadata": {
        "id": "fIxtkPlcHnKA"
      },
      "source": [
        "____________________________________________![image.png](attachment:e098f400-88dd-4718-a254-9bad8f1d50a8.png)"
      ]
    },
    {
      "cell_type": "code",
      "execution_count": 123,
      "metadata": {
        "id": "ycr8JFM7HnKA"
      },
      "outputs": [],
      "source": []
    },
    {
      "cell_type": "code",
      "execution_count": 123,
      "metadata": {
        "id": "eR7pEm2THnKA"
      },
      "outputs": [],
      "source": []
    },
    {
      "cell_type": "code",
      "execution_count": 123,
      "metadata": {
        "id": "2fSjNVB2HnKB"
      },
      "outputs": [],
      "source": []
    },
    {
      "cell_type": "markdown",
      "metadata": {
        "id": "HYwopxrqHnKB"
      },
      "source": [
        "<html> <h3 style=\"color:blue;\"> Matrix Multiplication </h3> </html>"
      ]
    },
    {
      "cell_type": "code",
      "execution_count": 124,
      "metadata": {
        "id": "-6BV07H3HnKB"
      },
      "outputs": [],
      "source": [
        "# Note that the above was elementwise multiplication, not matrix multiplication.\n",
        "# To receive the matrix multiplication, we use the dot function."
      ]
    },
    {
      "cell_type": "markdown",
      "metadata": {
        "id": "ZjLrFR1FHnKC"
      },
      "source": [
        "#### Now just press 'CTRL' and 'ENTER' keys on the next cell."
      ]
    },
    {
      "cell_type": "code",
      "execution_count": 125,
      "metadata": {
        "colab": {
          "base_uri": "https://localhost:8080/"
        },
        "id": "aJbByl_2HnKC",
        "outputId": "c0839cf0-c697-40ca-bdf7-99046fec8188"
      },
      "outputs": [
        {
          "output_type": "stream",
          "name": "stdout",
          "text": [
            "[[1 2]\n",
            " [3 4]] \n",
            "\n",
            " [[5 6]\n",
            " [7 8]] \n",
            "\n",
            " [ 9 10] \n",
            "\n",
            " [11 12]\n"
          ]
        }
      ],
      "source": [
        "x = np.array([[1,2],[3,4]])\n",
        "y = np.array([[5,6],[7,8]])\n",
        "\n",
        "v = np.array([9,10])\n",
        "w = np.array([11, 12])\n",
        "print(x, '\\n\\n', y, '\\n\\n', v, '\\n\\n', w)"
      ]
    },
    {
      "cell_type": "markdown",
      "metadata": {
        "id": "a-G-EfnlHnKC"
      },
      "source": [
        "![image.png](attachment:4775c518-47b9-4860-8f55-196766891597.png)"
      ]
    },
    {
      "cell_type": "markdown",
      "metadata": {
        "id": "Sa19YY63HnKD"
      },
      "source": [
        "____________________________________________![image.png](attachment:f04b0822-51b3-4ca0-9645-e930c515bb4b.png)"
      ]
    },
    {
      "cell_type": "code",
      "execution_count": 126,
      "metadata": {
        "colab": {
          "base_uri": "https://localhost:8080/"
        },
        "id": "H1hvuwHqHnKD",
        "outputId": "592d144e-2cb3-4d11-dce2-47f1f23d8373"
      },
      "outputs": [
        {
          "output_type": "stream",
          "name": "stdout",
          "text": [
            "219\n"
          ]
        }
      ],
      "source": [
        "print(v.dot(w))"
      ]
    },
    {
      "cell_type": "code",
      "execution_count": 127,
      "metadata": {
        "colab": {
          "base_uri": "https://localhost:8080/"
        },
        "id": "bR9rVrRZHnKE",
        "outputId": "02a775b9-67a3-495f-dcf5-3571db6306da"
      },
      "outputs": [
        {
          "output_type": "stream",
          "name": "stdout",
          "text": [
            "219\n"
          ]
        }
      ],
      "source": [
        "print(np.dot(v, w))"
      ]
    },
    {
      "cell_type": "markdown",
      "metadata": {
        "id": "14IJTJPEHnKE"
      },
      "source": [
        "![image.png](attachment:86e4646b-afd4-45a8-bca2-92656bfba0fb.png)"
      ]
    },
    {
      "cell_type": "markdown",
      "metadata": {
        "id": "Jhh1awF3HnKE"
      },
      "source": [
        "Watch this video carefully at **home** and remember how matrices are multiplied\n",
        "\n",
        "https://www.youtube.com/watch?v=2spTnAiQg4M\n"
      ]
    },
    {
      "cell_type": "markdown",
      "metadata": {
        "id": "xk-WrF2FHnKF"
      },
      "source": [
        "____________________________________________![image.png](attachment:fd6fab27-ad50-469c-95af-88d37aa1565c.png)"
      ]
    },
    {
      "cell_type": "code",
      "execution_count": 128,
      "metadata": {
        "colab": {
          "base_uri": "https://localhost:8080/"
        },
        "id": "7PrdmkihHnKF",
        "outputId": "fb327b7c-2ded-4351-bb66-2bc53dd6b190"
      },
      "outputs": [
        {
          "output_type": "stream",
          "name": "stdout",
          "text": [
            "[29 67]\n",
            "\n",
            "\n",
            "[29 67]\n"
          ]
        }
      ],
      "source": [
        "print(x.dot(v))\n",
        "print('\\n')\n",
        "print(np.dot(x, v))"
      ]
    },
    {
      "cell_type": "code",
      "execution_count": 128,
      "metadata": {
        "id": "DH8R5hRYHnKF"
      },
      "outputs": [],
      "source": []
    },
    {
      "cell_type": "code",
      "execution_count": 129,
      "metadata": {
        "id": "6a9FaZKGHnKG"
      },
      "outputs": [],
      "source": [
        "# an example of matrix multiplication:"
      ]
    },
    {
      "cell_type": "markdown",
      "metadata": {
        "id": "iQH8a4e2HnKG"
      },
      "source": [
        "![image.png](attachment:134eb75e-46f0-4059-a113-23d0eb1e4b03.png)"
      ]
    },
    {
      "cell_type": "markdown",
      "metadata": {
        "id": "4It0GJthHnKH"
      },
      "source": [
        "____________________________________________![image.png](attachment:88ed560c-87be-4ced-bf7e-e8f7f1c9d370.png)"
      ]
    },
    {
      "cell_type": "code",
      "execution_count": 130,
      "metadata": {
        "colab": {
          "base_uri": "https://localhost:8080/"
        },
        "id": "_B3aqe8LHnKH",
        "outputId": "c9d58afe-6dca-4db3-92d6-fb2f33761cc0"
      },
      "outputs": [
        {
          "output_type": "stream",
          "name": "stdout",
          "text": [
            "[[19 22]\n",
            " [43 50]]\n",
            "\n",
            "\n",
            "[[19 22]\n",
            " [43 50]]\n"
          ]
        }
      ],
      "source": [
        "print(x.dot(y))\n",
        "print('\\n')\n",
        "print(np.dot(x, y))"
      ]
    },
    {
      "cell_type": "code",
      "execution_count": 130,
      "metadata": {
        "id": "0I1-bempHnKH"
      },
      "outputs": [],
      "source": []
    },
    {
      "cell_type": "code",
      "execution_count": 130,
      "metadata": {
        "id": "xOvtoF3PHnKI"
      },
      "outputs": [],
      "source": []
    },
    {
      "cell_type": "markdown",
      "metadata": {
        "id": "R2nSpOgPHnKI"
      },
      "source": [
        "<html> <h3 style=\"color:blue;\"> Random number array generator </h3> </html>"
      ]
    },
    {
      "cell_type": "markdown",
      "metadata": {
        "id": "ku7ut2qbHnKI"
      },
      "source": [
        "____________________________________________![image.png](attachment:b66acf21-ce8f-41c8-bda0-8446e71611f6.png)"
      ]
    },
    {
      "cell_type": "code",
      "execution_count": 131,
      "metadata": {
        "colab": {
          "base_uri": "https://localhost:8080/"
        },
        "id": "bp7c3z7YHnKI",
        "outputId": "b9ad78f6-ef86-4581-8e3e-dd2b9dca5add"
      },
      "outputs": [
        {
          "output_type": "execute_result",
          "data": {
            "text/plain": [
              "array([0.57382661, 0.70193324, 0.58230638, 0.62473866])"
            ]
          },
          "metadata": {},
          "execution_count": 131
        }
      ],
      "source": [
        "np.random.rand(4)"
      ]
    },
    {
      "cell_type": "code",
      "execution_count": 131,
      "metadata": {
        "id": "NMmUzCMJHnKJ"
      },
      "outputs": [],
      "source": []
    },
    {
      "cell_type": "markdown",
      "metadata": {
        "id": "b3mo_oolHnKJ"
      },
      "source": [
        "____________________________________________![image.png](attachment:d502bc7f-c406-47cf-86b0-858b69aa0feb.png)"
      ]
    },
    {
      "cell_type": "code",
      "execution_count": 132,
      "metadata": {
        "colab": {
          "base_uri": "https://localhost:8080/"
        },
        "id": "dpWXOEK8HnKJ",
        "outputId": "80986b02-540c-41f0-9486-631a7740d9a7"
      },
      "outputs": [
        {
          "output_type": "execute_result",
          "data": {
            "text/plain": [
              "array([[0.02661745, 0.49611907, 0.00803944, 0.35294848],\n",
              "       [0.61687775, 0.63299127, 0.10023874, 0.73391125],\n",
              "       [0.71407861, 0.90908648, 0.45422469, 0.62689403],\n",
              "       [0.17090323, 0.02193454, 0.46547681, 0.82577301]])"
            ]
          },
          "metadata": {},
          "execution_count": 132
        }
      ],
      "source": [
        "np.random.rand(4,4)"
      ]
    },
    {
      "cell_type": "code",
      "execution_count": 132,
      "metadata": {
        "id": "jq7xycPRHnKK"
      },
      "outputs": [],
      "source": []
    },
    {
      "cell_type": "code",
      "execution_count": 132,
      "metadata": {
        "id": "emVbLyIgHnKK"
      },
      "outputs": [],
      "source": []
    },
    {
      "cell_type": "markdown",
      "metadata": {
        "id": "R3FHAUzdHnKK"
      },
      "source": [
        "##### Normal distribution (Gaussian distribution)"
      ]
    },
    {
      "cell_type": "markdown",
      "metadata": {
        "id": "2z0YONB3HnKK"
      },
      "source": [
        "![image.png](attachment:2a8d6d99-a743-406b-af0b-bded80612de1.png)"
      ]
    },
    {
      "cell_type": "markdown",
      "metadata": {
        "id": "_gwNfOnnHnKL"
      },
      "source": [
        "______________________![image.png](attachment:197e75d0-c7df-4e33-bbef-34d556c86be8.png)"
      ]
    },
    {
      "cell_type": "code",
      "execution_count": 133,
      "metadata": {
        "colab": {
          "base_uri": "https://localhost:8080/"
        },
        "id": "B6PmJiU0HnKL",
        "outputId": "43fe87cc-eace-4ea9-ef98-2ad8fcebc4f8"
      },
      "outputs": [
        {
          "output_type": "execute_result",
          "data": {
            "text/plain": [
              "array([[ 0.40758347, -0.10610171,  1.06972241, -0.30928055],\n",
              "       [ 0.05252828,  0.13517547, -0.87149074, -0.04927522],\n",
              "       [-1.10955808, -0.41605556,  0.02607525,  0.0662339 ],\n",
              "       [-0.38036821,  0.17671914, -0.569936  ,  0.50591875]])"
            ]
          },
          "metadata": {},
          "execution_count": 133
        }
      ],
      "source": [
        "np.random.randn(4,4)"
      ]
    },
    {
      "cell_type": "code",
      "execution_count": 133,
      "metadata": {
        "id": "Hab9sUn1HnKL"
      },
      "outputs": [],
      "source": []
    },
    {
      "cell_type": "markdown",
      "metadata": {
        "id": "AnVz4I7ZHnKM"
      },
      "source": [
        "____________________________________________![image.png](attachment:cd9a9f30-f9b9-42fb-8243-ddb743ee01c3.png)"
      ]
    },
    {
      "cell_type": "code",
      "execution_count": 134,
      "metadata": {
        "colab": {
          "base_uri": "https://localhost:8080/"
        },
        "id": "wFeM75iQHnKM",
        "outputId": "7431c3d6-1fb1-469f-d323-feee40be1d0a"
      },
      "outputs": [
        {
          "output_type": "execute_result",
          "data": {
            "text/plain": [
              "179"
            ]
          },
          "metadata": {},
          "execution_count": 134
        }
      ],
      "source": [
        "np.random.randint(1, 300)"
      ]
    },
    {
      "cell_type": "code",
      "execution_count": 134,
      "metadata": {
        "id": "3mNslYJoHnKM"
      },
      "outputs": [],
      "source": []
    },
    {
      "cell_type": "markdown",
      "metadata": {
        "id": "mHGh-R60HnKN"
      },
      "source": [
        "____________________________________________![image.png](attachment:998bb937-89a8-416e-99da-0109fb725b6e.png)"
      ]
    },
    {
      "cell_type": "code",
      "execution_count": 135,
      "metadata": {
        "colab": {
          "base_uri": "https://localhost:8080/"
        },
        "id": "ATmOQsddHnKN",
        "outputId": "065a6889-1c9d-4fb8-a51a-b46e36079bf5"
      },
      "outputs": [
        {
          "output_type": "execute_result",
          "data": {
            "text/plain": [
              "array([176,  15, 156,  82,  46,  76,  79, 172, 171, 121,  65, 146, 114,\n",
              "       134,  21])"
            ]
          },
          "metadata": {},
          "execution_count": 135
        }
      ],
      "source": [
        "np.random.randint(1, 200, 15)"
      ]
    },
    {
      "cell_type": "code",
      "execution_count": 135,
      "metadata": {
        "id": "G5GLGtOYHnKN"
      },
      "outputs": [],
      "source": []
    },
    {
      "cell_type": "code",
      "execution_count": 135,
      "metadata": {
        "id": "w8dh6QnlHnKO"
      },
      "outputs": [],
      "source": []
    },
    {
      "cell_type": "markdown",
      "metadata": {
        "id": "gO7Wq48xHnKO"
      },
      "source": [
        "<html> <h3 style=\"color:blue;\"> Reshape </h3> </html>\n",
        "\n",
        "The shape (dimensions) of the array can be changed using the reshape() method\n",
        "This returns an array containing the same data with a new shape."
      ]
    },
    {
      "cell_type": "markdown",
      "metadata": {
        "id": "o9li7vVRHnKO"
      },
      "source": [
        "____________________________________________![image.png](attachment:288fc1d4-3930-4e62-8ec9-63be664670c3.png)"
      ]
    },
    {
      "cell_type": "code",
      "execution_count": 136,
      "metadata": {
        "colab": {
          "base_uri": "https://localhost:8080/"
        },
        "id": "yurv4JP-HnKO",
        "outputId": "d730d80b-1762-4944-9ede-dfaca991fa0e"
      },
      "outputs": [
        {
          "output_type": "execute_result",
          "data": {
            "text/plain": [
              "array([ 0,  1,  2,  3,  4,  5,  6,  7,  8,  9, 10, 11, 12, 13, 14])"
            ]
          },
          "metadata": {},
          "execution_count": 136
        }
      ],
      "source": [
        "p = np.arange(0, 15)\n",
        "p"
      ]
    },
    {
      "cell_type": "code",
      "execution_count": 137,
      "metadata": {
        "colab": {
          "base_uri": "https://localhost:8080/"
        },
        "id": "7XvQWp8KHnKP",
        "outputId": "4cfb6c98-aff7-499d-cb82-16560b3c29ba"
      },
      "outputs": [
        {
          "output_type": "execute_result",
          "data": {
            "text/plain": [
              "array([[ 0,  1,  2,  3,  4],\n",
              "       [ 5,  6,  7,  8,  9],\n",
              "       [10, 11, 12, 13, 14]])"
            ]
          },
          "metadata": {},
          "execution_count": 137
        }
      ],
      "source": [
        "p = p.reshape(3, 5)\n",
        "p\n"
      ]
    },
    {
      "cell_type": "markdown",
      "metadata": {
        "id": "r4eJjOWdHnKP"
      },
      "source": [
        "____________________________________________![image.png](attachment:3c35d8d2-17f4-43bc-a513-155af5c09df6.png)"
      ]
    },
    {
      "cell_type": "code",
      "execution_count": 137,
      "metadata": {
        "id": "8QUWjWTcHnKP"
      },
      "outputs": [],
      "source": []
    },
    {
      "cell_type": "code",
      "execution_count": 137,
      "metadata": {
        "id": "E2w4UtFRHnKQ"
      },
      "outputs": [],
      "source": []
    },
    {
      "cell_type": "markdown",
      "metadata": {
        "id": "J9F0lO4fHnKQ"
      },
      "source": [
        "____________________________________________![image.png](attachment:2ca2045d-3dba-4c89-aeac-8176014a3cdf.png)"
      ]
    },
    {
      "cell_type": "code",
      "execution_count": 138,
      "metadata": {
        "colab": {
          "base_uri": "https://localhost:8080/"
        },
        "id": "HM_A3dwSHnKQ",
        "outputId": "bd1f5bc4-18e9-4bc6-a52d-937fdac8e10e"
      },
      "outputs": [
        {
          "output_type": "execute_result",
          "data": {
            "text/plain": [
              "array([[ 0,  1,  2,  3],\n",
              "       [ 4,  5,  6,  7],\n",
              "       [ 8,  9, 10, 11]])"
            ]
          },
          "metadata": {},
          "execution_count": 138
        }
      ],
      "source": [
        "s = np.arange(12).reshape(3, 4)\n",
        "s"
      ]
    },
    {
      "cell_type": "code",
      "execution_count": 138,
      "metadata": {
        "id": "g_KDp5gSHnKR"
      },
      "outputs": [],
      "source": []
    },
    {
      "cell_type": "code",
      "execution_count": 138,
      "metadata": {
        "id": "cqE8UiMyHnKR"
      },
      "outputs": [],
      "source": []
    },
    {
      "cell_type": "markdown",
      "metadata": {
        "id": "FFC8pR9nHnKR"
      },
      "source": [
        "##### Transposing a Matrix"
      ]
    },
    {
      "cell_type": "markdown",
      "metadata": {
        "id": "pbwBIf2GHnKS"
      },
      "source": [
        "![image.png](attachment:ae787138-a47b-4140-9bec-99a532903bbd.png)"
      ]
    },
    {
      "cell_type": "markdown",
      "metadata": {
        "id": "k9gNX08jHnKS"
      },
      "source": [
        "____________________________________________![image.png](attachment:1e9d411f-d355-4233-9180-639e7659446d.png)"
      ]
    },
    {
      "cell_type": "code",
      "execution_count": 139,
      "metadata": {
        "colab": {
          "base_uri": "https://localhost:8080/"
        },
        "id": "-xlCO81sHnKS",
        "outputId": "377daea9-8afd-4762-9847-562dacabe8b6"
      },
      "outputs": [
        {
          "output_type": "stream",
          "name": "stdout",
          "text": [
            "[[ 0  5 10]\n",
            " [ 1  6 11]\n",
            " [ 2  7 12]\n",
            " [ 3  8 13]\n",
            " [ 4  9 14]]\n"
          ]
        }
      ],
      "source": [
        "print(p.T)\n"
      ]
    },
    {
      "cell_type": "code",
      "execution_count": 140,
      "metadata": {
        "colab": {
          "base_uri": "https://localhost:8080/"
        },
        "id": "mfHYzJ_FHnKT",
        "outputId": "df21f1af-bde2-4092-94f8-75fba8723534"
      },
      "outputs": [
        {
          "output_type": "execute_result",
          "data": {
            "text/plain": [
              "array([[    134896075799888,     134896075799888,                   0,\n",
              "                          0,        446676598784],\n",
              "       [8319683848551211643, 3180222411935070754, 8391722768137527840,\n",
              "        7959390389040738153, 3186634497428431476],\n",
              "       [7304682900672553504, 8028074750225051768, 3205853888102167406,\n",
              "        7020949612675473952,                 128]])"
            ]
          },
          "metadata": {},
          "execution_count": 140
        }
      ],
      "source": [
        "k = np.empty_like(p)\n",
        "k"
      ]
    },
    {
      "cell_type": "markdown",
      "metadata": {
        "id": "L9ivNmBPHnKT"
      },
      "source": [
        "____________________________________________![image.png](attachment:f5b163a3-7ce4-4100-942b-efc07e220eed.png)"
      ]
    },
    {
      "cell_type": "markdown",
      "metadata": {
        "id": "8cY4i865HnKT"
      },
      "source": [
        "The command does not create an \"empty\" matrix in the sense of being filled with zeros or having no values. Instead, it returns a new array with the same shape and data type as p, but without initialising the elements — meaning the array elements contain random values that happened to be in memory at the time of allocation"
      ]
    },
    {
      "cell_type": "code",
      "execution_count": 141,
      "metadata": {
        "colab": {
          "base_uri": "https://localhost:8080/"
        },
        "id": "Eu80hJlxHnKU",
        "outputId": "b08dd863-b512-464b-d1f6-434207779271"
      },
      "outputs": [
        {
          "output_type": "stream",
          "name": "stdout",
          "text": [
            "[1 0 1] \n",
            "\n"
          ]
        }
      ],
      "source": [
        "v = np.array([1,0,1])\n",
        "print(v, '\\n')"
      ]
    },
    {
      "cell_type": "code",
      "execution_count": 142,
      "metadata": {
        "colab": {
          "base_uri": "https://localhost:8080/"
        },
        "id": "qq-QhK1qHnKU",
        "outputId": "b431f82a-ff5f-41b4-aefc-76206266d315"
      },
      "outputs": [
        {
          "output_type": "stream",
          "name": "stdout",
          "text": [
            "[[1 0 1]\n",
            " [1 0 1]\n",
            " [1 0 1]\n",
            " [1 0 1]]\n"
          ]
        }
      ],
      "source": [
        "vv = np.tile(v, (4, 1))\n",
        "print(vv)"
      ]
    },
    {
      "cell_type": "markdown",
      "metadata": {
        "id": "mzNb4T0lHnKV"
      },
      "source": [
        "____________________________________________![image.png](attachment:4bc158d4-9ab4-45cb-8f92-48339dd3e6e5.png)"
      ]
    },
    {
      "cell_type": "code",
      "execution_count": 142,
      "metadata": {
        "id": "GgANAiyUHnKV"
      },
      "outputs": [],
      "source": []
    },
    {
      "cell_type": "code",
      "execution_count": 142,
      "metadata": {
        "id": "fVsa_XiEHnKV"
      },
      "outputs": [],
      "source": []
    },
    {
      "cell_type": "code",
      "execution_count": 142,
      "metadata": {
        "id": "312pRQRPHnKW"
      },
      "outputs": [],
      "source": []
    },
    {
      "cell_type": "markdown",
      "metadata": {
        "id": "YvEksLrNHnKW"
      },
      "source": [
        "<html> <h3 style=\"color:blue;\"> Functions </h3> </html>"
      ]
    },
    {
      "cell_type": "markdown",
      "metadata": {
        "id": "h6PmfyOUHnKW"
      },
      "source": [
        "____________________________________________![image.png](attachment:bf6cf184-57c9-4dd4-bfb2-7def73549040.png)"
      ]
    },
    {
      "cell_type": "code",
      "source": [
        "a"
      ],
      "metadata": {
        "colab": {
          "base_uri": "https://localhost:8080/"
        },
        "id": "MULnGRJYz8jy",
        "outputId": "1a8f9df3-2738-4bef-b712-27aae8feff59"
      },
      "execution_count": 143,
      "outputs": [
        {
          "output_type": "execute_result",
          "data": {
            "text/plain": [
              "array([[ 1, 88,  3,  4],\n",
              "       [ 5,  6,  7,  8],\n",
              "       [ 9, 10, 11, 12]])"
            ]
          },
          "metadata": {},
          "execution_count": 143
        }
      ]
    },
    {
      "cell_type": "code",
      "execution_count": 143,
      "metadata": {
        "id": "yR1Q1KKwHnKW"
      },
      "outputs": [],
      "source": []
    },
    {
      "cell_type": "code",
      "execution_count": 144,
      "metadata": {
        "colab": {
          "base_uri": "https://localhost:8080/"
        },
        "id": "fwKpUEd7HnKX",
        "outputId": "e8c0e368-c516-4f3c-f008-657c8c85ca5d"
      },
      "outputs": [
        {
          "output_type": "stream",
          "name": "stdout",
          "text": [
            "164\n"
          ]
        }
      ],
      "source": [
        "print(np.sum(a))"
      ]
    },
    {
      "cell_type": "code",
      "execution_count": 145,
      "metadata": {
        "id": "Vm1SRDi5HnKX"
      },
      "outputs": [],
      "source": [
        "# Numpy provides many useful functions for performing computations on arrays; one of the most useful is sum:"
      ]
    },
    {
      "cell_type": "markdown",
      "metadata": {
        "id": "3yrk4aV3HnKX"
      },
      "source": [
        "____________________________________________![image.png](attachment:a7779684-6a28-49f0-9c2f-4fab2a79a47e.png)"
      ]
    },
    {
      "cell_type": "code",
      "execution_count": 146,
      "metadata": {
        "colab": {
          "base_uri": "https://localhost:8080/"
        },
        "id": "sdodsdU3HnKY",
        "outputId": "6be454b4-918a-4ac5-974f-2fdb850feb2d"
      },
      "outputs": [
        {
          "output_type": "stream",
          "name": "stdout",
          "text": [
            "[ 15 104  21  24]\n"
          ]
        }
      ],
      "source": [
        "print(np.sum(a, axis=0))"
      ]
    },
    {
      "cell_type": "code",
      "execution_count": 146,
      "metadata": {
        "id": "OAkqMSEXHnKY"
      },
      "outputs": [],
      "source": []
    },
    {
      "cell_type": "markdown",
      "metadata": {
        "id": "gLnOlu_QHnKY"
      },
      "source": [
        "____________________________________________![image.png](attachment:26e7377d-c022-4e06-8ade-0f49b2759669.png)"
      ]
    },
    {
      "cell_type": "code",
      "execution_count": 147,
      "metadata": {
        "colab": {
          "base_uri": "https://localhost:8080/"
        },
        "id": "O2_CiorsHnKZ",
        "outputId": "3dc55bbc-749c-445d-e101-e459663c8eff"
      },
      "outputs": [
        {
          "output_type": "stream",
          "name": "stdout",
          "text": [
            "[96 26 42]\n"
          ]
        }
      ],
      "source": [
        "print(np.sum(a, axis=1))"
      ]
    },
    {
      "cell_type": "code",
      "execution_count": 147,
      "metadata": {
        "id": "vmPtaRC-HnKZ"
      },
      "outputs": [],
      "source": []
    },
    {
      "cell_type": "markdown",
      "metadata": {
        "id": "l-CZ0bBhHnKZ"
      },
      "source": [
        "____________________________________________![image.png](attachment:e7c61121-ac0a-43d5-a824-f12b26e99c73.png)"
      ]
    },
    {
      "cell_type": "code",
      "execution_count": 148,
      "metadata": {
        "colab": {
          "base_uri": "https://localhost:8080/"
        },
        "id": "fpC_f5QXHnKa",
        "outputId": "736214f4-e696-4308-e6fa-70022f483258"
      },
      "outputs": [
        {
          "output_type": "execute_result",
          "data": {
            "text/plain": [
              "np.int64(88)"
            ]
          },
          "metadata": {},
          "execution_count": 148
        }
      ],
      "source": [
        "a.max()"
      ]
    },
    {
      "cell_type": "code",
      "execution_count": 148,
      "metadata": {
        "id": "H6TzFYMEHnKa"
      },
      "outputs": [],
      "source": []
    },
    {
      "cell_type": "markdown",
      "metadata": {
        "id": "DfBn1j2KHnKa"
      },
      "source": [
        "____________________________________________![image.png](attachment:0d80160c-983f-4bcf-9a16-6ce6911f9d4e.png)"
      ]
    },
    {
      "cell_type": "code",
      "execution_count": 149,
      "metadata": {
        "colab": {
          "base_uri": "https://localhost:8080/"
        },
        "id": "nkH9pfYTHnKb",
        "outputId": "424ac651-e1b3-46d8-f250-51d589d4c911"
      },
      "outputs": [
        {
          "output_type": "execute_result",
          "data": {
            "text/plain": [
              "np.int64(1)"
            ]
          },
          "metadata": {},
          "execution_count": 149
        }
      ],
      "source": [
        "a.min()"
      ]
    },
    {
      "cell_type": "code",
      "execution_count": 149,
      "metadata": {
        "id": "aTbDmJcJHnKb"
      },
      "outputs": [],
      "source": []
    },
    {
      "cell_type": "markdown",
      "metadata": {
        "id": "tnrFsmtrHnKb"
      },
      "source": [
        "____________________________________________![image.png](attachment:16c464a1-f29f-4bd6-8de8-e86eab73c66d.png)"
      ]
    },
    {
      "cell_type": "code",
      "execution_count": 150,
      "metadata": {
        "colab": {
          "base_uri": "https://localhost:8080/"
        },
        "id": "guZ3VxU3HnKc",
        "outputId": "4384eaea-da46-4a96-f8b1-1ccde2d849b6"
      },
      "outputs": [
        {
          "output_type": "execute_result",
          "data": {
            "text/plain": [
              "np.int64(1)"
            ]
          },
          "metadata": {},
          "execution_count": 150
        }
      ],
      "source": [
        "a.argmax()"
      ]
    },
    {
      "cell_type": "code",
      "execution_count": 150,
      "metadata": {
        "id": "tV9Flu3PHnKc"
      },
      "outputs": [],
      "source": []
    },
    {
      "cell_type": "markdown",
      "metadata": {
        "id": "zcktswJ7HnKd"
      },
      "source": [
        "____________________________________________![image.png](attachment:7ed980b3-88aa-43ee-a31d-3d664d24d492.png)"
      ]
    },
    {
      "cell_type": "code",
      "execution_count": 151,
      "metadata": {
        "colab": {
          "base_uri": "https://localhost:8080/"
        },
        "id": "ldwhkmC5HnKd",
        "outputId": "5d745073-65c0-4cbf-f79c-09badee04574"
      },
      "outputs": [
        {
          "output_type": "execute_result",
          "data": {
            "text/plain": [
              "np.int64(0)"
            ]
          },
          "metadata": {},
          "execution_count": 151
        }
      ],
      "source": [
        "a.argmin()"
      ]
    },
    {
      "cell_type": "code",
      "execution_count": 151,
      "metadata": {
        "id": "7zDuogUyHnKd"
      },
      "outputs": [],
      "source": []
    },
    {
      "cell_type": "markdown",
      "metadata": {
        "id": "I7h8GINcHnKe"
      },
      "source": [
        "____________________________________________![image.png](attachment:7ca34411-c78a-4d05-8f4b-64459220ad88.png)"
      ]
    },
    {
      "cell_type": "code",
      "execution_count": 152,
      "metadata": {
        "colab": {
          "base_uri": "https://localhost:8080/"
        },
        "id": "_ABBhOvIHnKe",
        "outputId": "dc00a4bf-701d-4f97-a986-e7e420fb9510"
      },
      "outputs": [
        {
          "output_type": "stream",
          "name": "stdout",
          "text": [
            "[0 1 2 3 4 5 6 7 8 9]\n",
            "(10,)\n"
          ]
        }
      ],
      "source": [
        "arr = np.arange(10)\n",
        "print(arr)\n",
        "print(arr.shape)"
      ]
    },
    {
      "cell_type": "code",
      "execution_count": 152,
      "metadata": {
        "id": "RkDrGKUYHnKe"
      },
      "outputs": [],
      "source": []
    },
    {
      "cell_type": "code",
      "execution_count": 152,
      "metadata": {
        "id": "B8g9g16fHnKe"
      },
      "outputs": [],
      "source": []
    },
    {
      "cell_type": "markdown",
      "metadata": {
        "id": "KVQoNRE2HnKf"
      },
      "source": [
        "<html> <h3 style=\"color:blue;\"> Shape </h3> </html>"
      ]
    },
    {
      "cell_type": "markdown",
      "metadata": {
        "id": "2rO8bNSTHnKf"
      },
      "source": [
        "The size of a Numpy array can be retrieved using the attribute named \"shape\". Please note it is not a method. Attribute does not use \"()\" when evoked."
      ]
    },
    {
      "cell_type": "markdown",
      "metadata": {
        "id": "ESOHxHu8HnKf"
      },
      "source": [
        "____________________________________________![image.png](attachment:c1e69ea3-9843-4361-87d3-39c77f8936e4.png)"
      ]
    },
    {
      "cell_type": "code",
      "execution_count": 152,
      "metadata": {
        "id": "64qogvKoHnKg"
      },
      "outputs": [],
      "source": []
    },
    {
      "cell_type": "code",
      "execution_count": 152,
      "metadata": {
        "id": "9ib3b1xAHnKg"
      },
      "outputs": [],
      "source": []
    },
    {
      "cell_type": "markdown",
      "metadata": {
        "id": "uv6TinPcHnKg"
      },
      "source": [
        "____________________________________________![image.png](attachment:53dde3eb-9adf-400d-9d8b-e94692a80ef5.png)"
      ]
    },
    {
      "cell_type": "code",
      "execution_count": 153,
      "metadata": {
        "colab": {
          "base_uri": "https://localhost:8080/"
        },
        "id": "wOeXDioAHnKh",
        "outputId": "bf4cf2af-8f12-4f61-c8e7-d4258c280ce3"
      },
      "outputs": [
        {
          "output_type": "stream",
          "name": "stdout",
          "text": [
            "[[ 1 88  3  4]\n",
            " [ 5  6  7  8]\n",
            " [ 9 10 11 12]]\n",
            "(3, 4)\n"
          ]
        }
      ],
      "source": [
        "print(a)\n",
        "print(a.shape)"
      ]
    },
    {
      "cell_type": "markdown",
      "metadata": {
        "id": "y6KBhD57HnKh"
      },
      "source": [
        "The shape of an array can be changed with various commands. Note that the following three commands all return a modified array, but do not change the original array:"
      ]
    },
    {
      "cell_type": "markdown",
      "metadata": {
        "id": "H57EaaRlHnKh"
      },
      "source": [
        "____________________________________________![image.png](attachment:d481818b-d0c0-4c0b-8443-2369390cc1fa.png)"
      ]
    },
    {
      "cell_type": "code",
      "execution_count": 154,
      "metadata": {
        "colab": {
          "base_uri": "https://localhost:8080/"
        },
        "id": "3JqgsMgDHnKi",
        "outputId": "e93189dc-d2fe-4f68-de13-cc1249edd1e7"
      },
      "outputs": [
        {
          "output_type": "execute_result",
          "data": {
            "text/plain": [
              "array([ 1, 88,  3,  4,  5,  6,  7,  8,  9, 10, 11, 12])"
            ]
          },
          "metadata": {},
          "execution_count": 154
        }
      ],
      "source": [
        "a.ravel()"
      ]
    },
    {
      "cell_type": "code",
      "execution_count": 154,
      "metadata": {
        "id": "diYdZ014HnKi"
      },
      "outputs": [],
      "source": []
    },
    {
      "cell_type": "markdown",
      "metadata": {
        "id": "0_6vNPJ1HnKi"
      },
      "source": [
        "____________________________________________![image.png](attachment:e9a52f60-26dc-4230-97e6-b877ed8e8bba.png)"
      ]
    },
    {
      "cell_type": "code",
      "execution_count": 155,
      "metadata": {
        "colab": {
          "base_uri": "https://localhost:8080/"
        },
        "id": "Ff88ur1iHnKj",
        "outputId": "ec699785-a0f6-446e-9b66-1cff8f8f9af6"
      },
      "outputs": [
        {
          "output_type": "execute_result",
          "data": {
            "text/plain": [
              "array([[ 1, 88],\n",
              "       [ 3,  4],\n",
              "       [ 5,  6],\n",
              "       [ 7,  8],\n",
              "       [ 9, 10],\n",
              "       [11, 12]])"
            ]
          },
          "metadata": {},
          "execution_count": 155
        }
      ],
      "source": [
        "a.reshape(6, 2)"
      ]
    },
    {
      "cell_type": "code",
      "execution_count": 155,
      "metadata": {
        "id": "3RsuoMgyHnKj"
      },
      "outputs": [],
      "source": []
    },
    {
      "cell_type": "markdown",
      "metadata": {
        "id": "AiTq3ROLHnKj"
      },
      "source": [
        "____________________________________________![image.png](attachment:4ac28c80-ba5d-4357-a3e7-6fba7fc3d9f4.png)"
      ]
    },
    {
      "cell_type": "code",
      "execution_count": 156,
      "metadata": {
        "colab": {
          "base_uri": "https://localhost:8080/"
        },
        "id": "zad_XXR9HnKk",
        "outputId": "a12ed15f-75e1-45bb-bce7-76f5baec18d3"
      },
      "outputs": [
        {
          "output_type": "stream",
          "name": "stdout",
          "text": [
            "(3, 4)\n"
          ]
        }
      ],
      "source": [
        "print(a.shape)"
      ]
    },
    {
      "cell_type": "code",
      "execution_count": 157,
      "metadata": {
        "colab": {
          "base_uri": "https://localhost:8080/"
        },
        "id": "Uz8r0uP7HnKk",
        "outputId": "204d9a9f-417b-41b1-d52e-d8d671be7112"
      },
      "outputs": [
        {
          "output_type": "stream",
          "name": "stdout",
          "text": [
            "(4, 3)\n"
          ]
        }
      ],
      "source": [
        "print(a.T.shape)"
      ]
    },
    {
      "cell_type": "code",
      "execution_count": 157,
      "metadata": {
        "id": "V4cqSJeEHnKk"
      },
      "outputs": [],
      "source": []
    },
    {
      "cell_type": "markdown",
      "metadata": {
        "id": "M2BfO9FkHnKl"
      },
      "source": [
        "Change matrix a to **2-d** array with 1 column. Notice the two sets of brackets for a 2-d array with one column.\n",
        "\n",
        "Save it in another array.\n",
        "\n",
        "Check the shape attribute value."
      ]
    },
    {
      "cell_type": "markdown",
      "metadata": {
        "id": "8V_K1ASOHnKl"
      },
      "source": [
        "____________________________________________![image.png](attachment:a3063539-2ef1-4ae3-a392-e9baf8ab8ca3.png)"
      ]
    },
    {
      "cell_type": "code",
      "execution_count": 158,
      "metadata": {
        "colab": {
          "base_uri": "https://localhost:8080/"
        },
        "id": "TPtwEeVIHnKl",
        "outputId": "111728db-7014-4f8c-c166-22a6a55d02de"
      },
      "outputs": [
        {
          "output_type": "stream",
          "name": "stdout",
          "text": [
            "[[ 1]\n",
            " [88]\n",
            " [ 3]\n",
            " [ 4]\n",
            " [ 5]\n",
            " [ 6]\n",
            " [ 7]\n",
            " [ 8]\n",
            " [ 9]\n",
            " [10]\n",
            " [11]\n",
            " [12]]\n",
            "\n",
            "\n",
            "(12, 1)\n"
          ]
        }
      ],
      "source": [
        "a3 = a.reshape(12, 1)\n",
        "print(a3)\n",
        "print('\\n')\n",
        "print(a3.shape)"
      ]
    },
    {
      "cell_type": "code",
      "execution_count": 158,
      "metadata": {
        "id": "RExjvKYSHnKm"
      },
      "outputs": [],
      "source": []
    },
    {
      "cell_type": "markdown",
      "metadata": {
        "id": "0JCH7NWDHnKm"
      },
      "source": [
        "<html> <h3 style=\"font-style:italic; color:#FF0000;\"> (!) From the point of view of mathematics - this is a 1-d vector.\n",
        "However, in terms of Numpy, it is a 2-dimensional array.\n",
        "</h3> </html>"
      ]
    },
    {
      "cell_type": "code",
      "execution_count": 158,
      "metadata": {
        "id": "qepPWUtLHnKm"
      },
      "outputs": [],
      "source": []
    },
    {
      "cell_type": "markdown",
      "metadata": {
        "id": "CJyDFkv7HnKn"
      },
      "source": [
        "# Lab Logbook Requirement:"
      ]
    },
    {
      "cell_type": "markdown",
      "metadata": {
        "id": "ftf8pDMrHnKn"
      },
      "source": [
        "<html> <h3 style=\"font-style:italic; color:blue;\">\n",
        "1) Create a vector using np.arange.\n",
        "\n",
        "Determine the number of the vector elements using the following method: Take the last two digits from your SID. It should be from 00 to 99. If this number is 10 or more, it becomes the required number of the vector elements. If it is less than 10, add 100 to your number.\n",
        "\n",
        "For example, if your SID is 2287467, and the last two digits are 67, which is greater than 10. The required number is 67. If your SID is 2287407, and the last two digits are 07, which is less than 10. The required number is 107.\n",
        "\n",
        "Then,\n",
        "\n",
        "2) Change matrix a to 2-d array with 1 row. Print the array.\n",
        "You should have the two sets of brackets for a 2-d array with one row.\n",
        "3) Save it in another array. Print the array.\n",
        "4) Check the shape attribute value.\n",
        "5) Add the code and result to your Lab Logbook\n",
        "</h3> </html>"
      ]
    },
    {
      "cell_type": "markdown",
      "metadata": {
        "id": "vVHH7SllHnKn"
      },
      "source": [
        "<html> <h3 style=\"color:red;\">\n",
        "NOTE: DON'T FORGET TO SAVE AND BACK UP YOUR COMPLETED JUPYTER NOTEBOOK AND LAB LOGBOOK ON GITHUB OR ONEDRIVE.\n",
        "</h3> </html>"
      ]
    },
    {
      "cell_type": "markdown",
      "source": [
        "# 1 Create a vector using np.arange"
      ],
      "metadata": {
        "id": "fgY_nVn482b7"
      }
    },
    {
      "cell_type": "code",
      "execution_count": 159,
      "metadata": {
        "colab": {
          "base_uri": "https://localhost:8080/"
        },
        "id": "9x2xCNcYHnKo",
        "outputId": "20947cda-c30b-4041-d25f-58fcf19662b7"
      },
      "outputs": [
        {
          "output_type": "stream",
          "name": "stdout",
          "text": [
            "[ 0  1  2  3  4  5  6  7  8  9 10 11 12 13 14 15 16 17 18 19 20 21 22 23\n",
            " 24 25 26 27 28 29 30 31 32 33 34 35 36 37 38 39 40 41 42]\n"
          ]
        }
      ],
      "source": [
        "n = 43\n",
        "o = np.arange(n)\n",
        "print(o)"
      ]
    },
    {
      "cell_type": "markdown",
      "source": [
        "# 2.  Create a 2D array"
      ],
      "metadata": {
        "id": "LY6gYfkh5gFi"
      }
    },
    {
      "cell_type": "code",
      "source": [
        "p = o.reshape(1, -1)\n",
        "p"
      ],
      "metadata": {
        "colab": {
          "base_uri": "https://localhost:8080/"
        },
        "id": "bWQ6tA1z5RB5",
        "outputId": "2d2d2200-2090-49a5-bd09-bee2b2aa9e79"
      },
      "execution_count": 160,
      "outputs": [
        {
          "output_type": "execute_result",
          "data": {
            "text/plain": [
              "array([[ 0,  1,  2,  3,  4,  5,  6,  7,  8,  9, 10, 11, 12, 13, 14, 15,\n",
              "        16, 17, 18, 19, 20, 21, 22, 23, 24, 25, 26, 27, 28, 29, 30, 31,\n",
              "        32, 33, 34, 35, 36, 37, 38, 39, 40, 41, 42]])"
            ]
          },
          "metadata": {},
          "execution_count": 160
        }
      ]
    },
    {
      "cell_type": "markdown",
      "source": [
        "# 3. Save it in another Array"
      ],
      "metadata": {
        "id": "z9J_Mty76noA"
      }
    },
    {
      "cell_type": "code",
      "source": [
        "q = p.copy()\n",
        "q"
      ],
      "metadata": {
        "colab": {
          "base_uri": "https://localhost:8080/"
        },
        "id": "53Z6XPmx6reh",
        "outputId": "052daa06-d3a3-4c86-da16-035bdb76b945"
      },
      "execution_count": 161,
      "outputs": [
        {
          "output_type": "execute_result",
          "data": {
            "text/plain": [
              "array([[ 0,  1,  2,  3,  4,  5,  6,  7,  8,  9, 10, 11, 12, 13, 14, 15,\n",
              "        16, 17, 18, 19, 20, 21, 22, 23, 24, 25, 26, 27, 28, 29, 30, 31,\n",
              "        32, 33, 34, 35, 36, 37, 38, 39, 40, 41, 42]])"
            ]
          },
          "metadata": {},
          "execution_count": 161
        }
      ]
    },
    {
      "cell_type": "markdown",
      "source": [
        "# 4. Check shape"
      ],
      "metadata": {
        "id": "RmUrcDcR93bL"
      }
    },
    {
      "cell_type": "code",
      "source": [
        "print(p.shape)\n",
        "print('\\n')\n",
        "print(q.shape)"
      ],
      "metadata": {
        "colab": {
          "base_uri": "https://localhost:8080/"
        },
        "id": "FT3YSSqK64WJ",
        "outputId": "0f520f26-6246-48e1-cc0d-fd10559bb5ed"
      },
      "execution_count": 162,
      "outputs": [
        {
          "output_type": "stream",
          "name": "stdout",
          "text": [
            "(1, 43)\n",
            "\n",
            "\n",
            "(1, 43)\n"
          ]
        }
      ]
    }
  ],
  "metadata": {
    "kernelspec": {
      "display_name": "Python [conda env:anaconda3]",
      "language": "python",
      "name": "conda-env-anaconda3-py"
    },
    "language_info": {
      "codemirror_mode": {
        "name": "ipython",
        "version": 3
      },
      "file_extension": ".py",
      "mimetype": "text/x-python",
      "name": "python",
      "nbconvert_exporter": "python",
      "pygments_lexer": "ipython3",
      "version": "3.12.7"
    },
    "colab": {
      "provenance": [],
      "include_colab_link": true
    }
  },
  "nbformat": 4,
  "nbformat_minor": 0
}